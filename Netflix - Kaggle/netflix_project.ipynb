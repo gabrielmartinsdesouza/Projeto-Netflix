{
 "cells": [
  {
   "cell_type": "code",
   "execution_count": 6,
   "id": "e57468a9-813f-4090-8b81-ae4821b77998",
   "metadata": {},
   "outputs": [],
   "source": [
    "import numpy as np\n",
    "import pandas as pd\n",
    "import os"
   ]
  },
  {
   "cell_type": "code",
   "execution_count": 27,
   "id": "b8442901-d1d2-47f7-bea8-d33ccc70bf7d",
   "metadata": {},
   "outputs": [],
   "source": [
    "df = pd.read_csv(\"netflix_titles.csv\", index_col = \"show_id\")"
   ]
  },
  {
   "cell_type": "code",
   "execution_count": 28,
   "id": "1c4271aa-a980-4793-8967-78f2f8623b94",
   "metadata": {},
   "outputs": [
    {
     "data": {
      "text/html": [
       "<div>\n",
       "<style scoped>\n",
       "    .dataframe tbody tr th:only-of-type {\n",
       "        vertical-align: middle;\n",
       "    }\n",
       "\n",
       "    .dataframe tbody tr th {\n",
       "        vertical-align: top;\n",
       "    }\n",
       "\n",
       "    .dataframe thead th {\n",
       "        text-align: right;\n",
       "    }\n",
       "</style>\n",
       "<table border=\"1\" class=\"dataframe\">\n",
       "  <thead>\n",
       "    <tr style=\"text-align: right;\">\n",
       "      <th></th>\n",
       "      <th>type</th>\n",
       "      <th>title</th>\n",
       "      <th>director</th>\n",
       "      <th>cast</th>\n",
       "      <th>country</th>\n",
       "      <th>date_added</th>\n",
       "      <th>release_year</th>\n",
       "      <th>rating</th>\n",
       "      <th>duration</th>\n",
       "      <th>listed_in</th>\n",
       "      <th>description</th>\n",
       "    </tr>\n",
       "    <tr>\n",
       "      <th>show_id</th>\n",
       "      <th></th>\n",
       "      <th></th>\n",
       "      <th></th>\n",
       "      <th></th>\n",
       "      <th></th>\n",
       "      <th></th>\n",
       "      <th></th>\n",
       "      <th></th>\n",
       "      <th></th>\n",
       "      <th></th>\n",
       "      <th></th>\n",
       "    </tr>\n",
       "  </thead>\n",
       "  <tbody>\n",
       "    <tr>\n",
       "      <th>s1</th>\n",
       "      <td>Movie</td>\n",
       "      <td>Dick Johnson Is Dead</td>\n",
       "      <td>Kirsten Johnson</td>\n",
       "      <td>NaN</td>\n",
       "      <td>United States</td>\n",
       "      <td>September 25, 2021</td>\n",
       "      <td>2020</td>\n",
       "      <td>PG-13</td>\n",
       "      <td>90 min</td>\n",
       "      <td>Documentaries</td>\n",
       "      <td>As her father nears the end of his life, filmm...</td>\n",
       "    </tr>\n",
       "    <tr>\n",
       "      <th>s2</th>\n",
       "      <td>TV Show</td>\n",
       "      <td>Blood &amp; Water</td>\n",
       "      <td>NaN</td>\n",
       "      <td>Ama Qamata, Khosi Ngema, Gail Mabalane, Thaban...</td>\n",
       "      <td>South Africa</td>\n",
       "      <td>September 24, 2021</td>\n",
       "      <td>2021</td>\n",
       "      <td>TV-MA</td>\n",
       "      <td>2 Seasons</td>\n",
       "      <td>International TV Shows, TV Dramas, TV Mysteries</td>\n",
       "      <td>After crossing paths at a party, a Cape Town t...</td>\n",
       "    </tr>\n",
       "    <tr>\n",
       "      <th>s3</th>\n",
       "      <td>TV Show</td>\n",
       "      <td>Ganglands</td>\n",
       "      <td>Julien Leclercq</td>\n",
       "      <td>Sami Bouajila, Tracy Gotoas, Samuel Jouy, Nabi...</td>\n",
       "      <td>NaN</td>\n",
       "      <td>September 24, 2021</td>\n",
       "      <td>2021</td>\n",
       "      <td>TV-MA</td>\n",
       "      <td>1 Season</td>\n",
       "      <td>Crime TV Shows, International TV Shows, TV Act...</td>\n",
       "      <td>To protect his family from a powerful drug lor...</td>\n",
       "    </tr>\n",
       "    <tr>\n",
       "      <th>s4</th>\n",
       "      <td>TV Show</td>\n",
       "      <td>Jailbirds New Orleans</td>\n",
       "      <td>NaN</td>\n",
       "      <td>NaN</td>\n",
       "      <td>NaN</td>\n",
       "      <td>September 24, 2021</td>\n",
       "      <td>2021</td>\n",
       "      <td>TV-MA</td>\n",
       "      <td>1 Season</td>\n",
       "      <td>Docuseries, Reality TV</td>\n",
       "      <td>Feuds, flirtations and toilet talk go down amo...</td>\n",
       "    </tr>\n",
       "    <tr>\n",
       "      <th>s5</th>\n",
       "      <td>TV Show</td>\n",
       "      <td>Kota Factory</td>\n",
       "      <td>NaN</td>\n",
       "      <td>Mayur More, Jitendra Kumar, Ranjan Raj, Alam K...</td>\n",
       "      <td>India</td>\n",
       "      <td>September 24, 2021</td>\n",
       "      <td>2021</td>\n",
       "      <td>TV-MA</td>\n",
       "      <td>2 Seasons</td>\n",
       "      <td>International TV Shows, Romantic TV Shows, TV ...</td>\n",
       "      <td>In a city of coaching centers known to train I...</td>\n",
       "    </tr>\n",
       "  </tbody>\n",
       "</table>\n",
       "</div>"
      ],
      "text/plain": [
       "            type                  title         director  \\\n",
       "show_id                                                    \n",
       "s1         Movie   Dick Johnson Is Dead  Kirsten Johnson   \n",
       "s2       TV Show          Blood & Water              NaN   \n",
       "s3       TV Show              Ganglands  Julien Leclercq   \n",
       "s4       TV Show  Jailbirds New Orleans              NaN   \n",
       "s5       TV Show           Kota Factory              NaN   \n",
       "\n",
       "                                                      cast        country  \\\n",
       "show_id                                                                     \n",
       "s1                                                     NaN  United States   \n",
       "s2       Ama Qamata, Khosi Ngema, Gail Mabalane, Thaban...   South Africa   \n",
       "s3       Sami Bouajila, Tracy Gotoas, Samuel Jouy, Nabi...            NaN   \n",
       "s4                                                     NaN            NaN   \n",
       "s5       Mayur More, Jitendra Kumar, Ranjan Raj, Alam K...          India   \n",
       "\n",
       "                 date_added  release_year rating   duration  \\\n",
       "show_id                                                       \n",
       "s1       September 25, 2021          2020  PG-13     90 min   \n",
       "s2       September 24, 2021          2021  TV-MA  2 Seasons   \n",
       "s3       September 24, 2021          2021  TV-MA   1 Season   \n",
       "s4       September 24, 2021          2021  TV-MA   1 Season   \n",
       "s5       September 24, 2021          2021  TV-MA  2 Seasons   \n",
       "\n",
       "                                                 listed_in  \\\n",
       "show_id                                                      \n",
       "s1                                           Documentaries   \n",
       "s2         International TV Shows, TV Dramas, TV Mysteries   \n",
       "s3       Crime TV Shows, International TV Shows, TV Act...   \n",
       "s4                                  Docuseries, Reality TV   \n",
       "s5       International TV Shows, Romantic TV Shows, TV ...   \n",
       "\n",
       "                                               description  \n",
       "show_id                                                     \n",
       "s1       As her father nears the end of his life, filmm...  \n",
       "s2       After crossing paths at a party, a Cape Town t...  \n",
       "s3       To protect his family from a powerful drug lor...  \n",
       "s4       Feuds, flirtations and toilet talk go down amo...  \n",
       "s5       In a city of coaching centers known to train I...  "
      ]
     },
     "execution_count": 28,
     "metadata": {},
     "output_type": "execute_result"
    }
   ],
   "source": [
    "df.head()"
   ]
  },
  {
   "cell_type": "code",
   "execution_count": 18,
   "id": "b9b81927-6b38-478e-91e6-21eccb7b38aa",
   "metadata": {},
   "outputs": [
    {
     "name": "stdout",
     "output_type": "stream",
     "text": [
      "<class 'pandas.core.frame.DataFrame'>\n",
      "RangeIndex: 8807 entries, 0 to 8806\n",
      "Data columns (total 12 columns):\n",
      " #   Column        Non-Null Count  Dtype \n",
      "---  ------        --------------  ----- \n",
      " 0   show_id       8807 non-null   object\n",
      " 1   type          8807 non-null   object\n",
      " 2   title         8807 non-null   object\n",
      " 3   director      6173 non-null   object\n",
      " 4   cast          7982 non-null   object\n",
      " 5   country       7976 non-null   object\n",
      " 6   date_added    8797 non-null   object\n",
      " 7   release_year  8807 non-null   int64 \n",
      " 8   rating        8803 non-null   object\n",
      " 9   duration      8804 non-null   object\n",
      " 10  listed_in     8807 non-null   object\n",
      " 11  description   8807 non-null   object\n",
      "dtypes: int64(1), object(11)\n",
      "memory usage: 825.8+ KB\n"
     ]
    }
   ],
   "source": [
    "df.info()"
   ]
  },
  {
   "cell_type": "code",
   "execution_count": 31,
   "id": "0eaf5c5b-6283-4f53-8ee5-b609977611f5",
   "metadata": {},
   "outputs": [
    {
     "data": {
      "text/plain": [
       "(8807, 11)"
      ]
     },
     "execution_count": 31,
     "metadata": {},
     "output_type": "execute_result"
    }
   ],
   "source": [
    "df.shape"
   ]
  },
  {
   "cell_type": "code",
   "execution_count": 29,
   "id": "b3a9424b-400a-456c-ab14-355d23f644de",
   "metadata": {},
   "outputs": [
    {
     "data": {
      "text/plain": [
       "Index(['type', 'title', 'director', 'cast', 'country', 'date_added',\n",
       "       'release_year', 'rating', 'duration', 'listed_in', 'description'],\n",
       "      dtype='object')"
      ]
     },
     "execution_count": 29,
     "metadata": {},
     "output_type": "execute_result"
    }
   ],
   "source": [
    "df.columns"
   ]
  },
  {
   "cell_type": "markdown",
   "id": "85e3a12a-b617-4628-8a02-cabe8bb261d4",
   "metadata": {},
   "source": [
    "### Tratando os dados para análise"
   ]
  },
  {
   "cell_type": "code",
   "execution_count": 36,
   "id": "01bf7e05-5f56-4c8d-99c2-7fe62d78ea4d",
   "metadata": {},
   "outputs": [
    {
     "ename": "KeyError",
     "evalue": "\"['description'] not found in axis\"",
     "output_type": "error",
     "traceback": [
      "\u001b[1;31m---------------------------------------------------------------------------\u001b[0m",
      "\u001b[1;31mKeyError\u001b[0m                                  Traceback (most recent call last)",
      "\u001b[1;32m<ipython-input-36-4210b80323e0>\u001b[0m in \u001b[0;36m<module>\u001b[1;34m\u001b[0m\n\u001b[0;32m      1\u001b[0m \u001b[1;31m# Removendo coluna de sinopse\u001b[0m\u001b[1;33m\u001b[0m\u001b[1;33m\u001b[0m\u001b[1;33m\u001b[0m\u001b[0m\n\u001b[0;32m      2\u001b[0m \u001b[1;33m\u001b[0m\u001b[0m\n\u001b[1;32m----> 3\u001b[1;33m \u001b[0mdf\u001b[0m\u001b[1;33m.\u001b[0m\u001b[0mdrop\u001b[0m\u001b[1;33m(\u001b[0m\u001b[0mcolumns\u001b[0m\u001b[1;33m=\u001b[0m\u001b[1;34m\"description\"\u001b[0m\u001b[1;33m,\u001b[0m\u001b[0minplace\u001b[0m \u001b[1;33m=\u001b[0m \u001b[1;32mTrue\u001b[0m\u001b[1;33m)\u001b[0m\u001b[1;33m\u001b[0m\u001b[1;33m\u001b[0m\u001b[0m\n\u001b[0m",
      "\u001b[1;32m~\\anaconda3\\lib\\site-packages\\pandas\\core\\frame.py\u001b[0m in \u001b[0;36mdrop\u001b[1;34m(self, labels, axis, index, columns, level, inplace, errors)\u001b[0m\n\u001b[0;32m   4306\u001b[0m                 \u001b[0mweight\u001b[0m  \u001b[1;36m1.0\u001b[0m     \u001b[1;36m0.8\u001b[0m\u001b[1;33m\u001b[0m\u001b[1;33m\u001b[0m\u001b[0m\n\u001b[0;32m   4307\u001b[0m         \"\"\"\n\u001b[1;32m-> 4308\u001b[1;33m         return super().drop(\n\u001b[0m\u001b[0;32m   4309\u001b[0m             \u001b[0mlabels\u001b[0m\u001b[1;33m=\u001b[0m\u001b[0mlabels\u001b[0m\u001b[1;33m,\u001b[0m\u001b[1;33m\u001b[0m\u001b[1;33m\u001b[0m\u001b[0m\n\u001b[0;32m   4310\u001b[0m             \u001b[0maxis\u001b[0m\u001b[1;33m=\u001b[0m\u001b[0maxis\u001b[0m\u001b[1;33m,\u001b[0m\u001b[1;33m\u001b[0m\u001b[1;33m\u001b[0m\u001b[0m\n",
      "\u001b[1;32m~\\anaconda3\\lib\\site-packages\\pandas\\core\\generic.py\u001b[0m in \u001b[0;36mdrop\u001b[1;34m(self, labels, axis, index, columns, level, inplace, errors)\u001b[0m\n\u001b[0;32m   4151\u001b[0m         \u001b[1;32mfor\u001b[0m \u001b[0maxis\u001b[0m\u001b[1;33m,\u001b[0m \u001b[0mlabels\u001b[0m \u001b[1;32min\u001b[0m \u001b[0maxes\u001b[0m\u001b[1;33m.\u001b[0m\u001b[0mitems\u001b[0m\u001b[1;33m(\u001b[0m\u001b[1;33m)\u001b[0m\u001b[1;33m:\u001b[0m\u001b[1;33m\u001b[0m\u001b[1;33m\u001b[0m\u001b[0m\n\u001b[0;32m   4152\u001b[0m             \u001b[1;32mif\u001b[0m \u001b[0mlabels\u001b[0m \u001b[1;32mis\u001b[0m \u001b[1;32mnot\u001b[0m \u001b[1;32mNone\u001b[0m\u001b[1;33m:\u001b[0m\u001b[1;33m\u001b[0m\u001b[1;33m\u001b[0m\u001b[0m\n\u001b[1;32m-> 4153\u001b[1;33m                 \u001b[0mobj\u001b[0m \u001b[1;33m=\u001b[0m \u001b[0mobj\u001b[0m\u001b[1;33m.\u001b[0m\u001b[0m_drop_axis\u001b[0m\u001b[1;33m(\u001b[0m\u001b[0mlabels\u001b[0m\u001b[1;33m,\u001b[0m \u001b[0maxis\u001b[0m\u001b[1;33m,\u001b[0m \u001b[0mlevel\u001b[0m\u001b[1;33m=\u001b[0m\u001b[0mlevel\u001b[0m\u001b[1;33m,\u001b[0m \u001b[0merrors\u001b[0m\u001b[1;33m=\u001b[0m\u001b[0merrors\u001b[0m\u001b[1;33m)\u001b[0m\u001b[1;33m\u001b[0m\u001b[1;33m\u001b[0m\u001b[0m\n\u001b[0m\u001b[0;32m   4154\u001b[0m \u001b[1;33m\u001b[0m\u001b[0m\n\u001b[0;32m   4155\u001b[0m         \u001b[1;32mif\u001b[0m \u001b[0minplace\u001b[0m\u001b[1;33m:\u001b[0m\u001b[1;33m\u001b[0m\u001b[1;33m\u001b[0m\u001b[0m\n",
      "\u001b[1;32m~\\anaconda3\\lib\\site-packages\\pandas\\core\\generic.py\u001b[0m in \u001b[0;36m_drop_axis\u001b[1;34m(self, labels, axis, level, errors)\u001b[0m\n\u001b[0;32m   4186\u001b[0m                 \u001b[0mnew_axis\u001b[0m \u001b[1;33m=\u001b[0m \u001b[0maxis\u001b[0m\u001b[1;33m.\u001b[0m\u001b[0mdrop\u001b[0m\u001b[1;33m(\u001b[0m\u001b[0mlabels\u001b[0m\u001b[1;33m,\u001b[0m \u001b[0mlevel\u001b[0m\u001b[1;33m=\u001b[0m\u001b[0mlevel\u001b[0m\u001b[1;33m,\u001b[0m \u001b[0merrors\u001b[0m\u001b[1;33m=\u001b[0m\u001b[0merrors\u001b[0m\u001b[1;33m)\u001b[0m\u001b[1;33m\u001b[0m\u001b[1;33m\u001b[0m\u001b[0m\n\u001b[0;32m   4187\u001b[0m             \u001b[1;32melse\u001b[0m\u001b[1;33m:\u001b[0m\u001b[1;33m\u001b[0m\u001b[1;33m\u001b[0m\u001b[0m\n\u001b[1;32m-> 4188\u001b[1;33m                 \u001b[0mnew_axis\u001b[0m \u001b[1;33m=\u001b[0m \u001b[0maxis\u001b[0m\u001b[1;33m.\u001b[0m\u001b[0mdrop\u001b[0m\u001b[1;33m(\u001b[0m\u001b[0mlabels\u001b[0m\u001b[1;33m,\u001b[0m \u001b[0merrors\u001b[0m\u001b[1;33m=\u001b[0m\u001b[0merrors\u001b[0m\u001b[1;33m)\u001b[0m\u001b[1;33m\u001b[0m\u001b[1;33m\u001b[0m\u001b[0m\n\u001b[0m\u001b[0;32m   4189\u001b[0m             \u001b[0mresult\u001b[0m \u001b[1;33m=\u001b[0m \u001b[0mself\u001b[0m\u001b[1;33m.\u001b[0m\u001b[0mreindex\u001b[0m\u001b[1;33m(\u001b[0m\u001b[1;33m**\u001b[0m\u001b[1;33m{\u001b[0m\u001b[0maxis_name\u001b[0m\u001b[1;33m:\u001b[0m \u001b[0mnew_axis\u001b[0m\u001b[1;33m}\u001b[0m\u001b[1;33m)\u001b[0m\u001b[1;33m\u001b[0m\u001b[1;33m\u001b[0m\u001b[0m\n\u001b[0;32m   4190\u001b[0m \u001b[1;33m\u001b[0m\u001b[0m\n",
      "\u001b[1;32m~\\anaconda3\\lib\\site-packages\\pandas\\core\\indexes\\base.py\u001b[0m in \u001b[0;36mdrop\u001b[1;34m(self, labels, errors)\u001b[0m\n\u001b[0;32m   5589\u001b[0m         \u001b[1;32mif\u001b[0m \u001b[0mmask\u001b[0m\u001b[1;33m.\u001b[0m\u001b[0many\u001b[0m\u001b[1;33m(\u001b[0m\u001b[1;33m)\u001b[0m\u001b[1;33m:\u001b[0m\u001b[1;33m\u001b[0m\u001b[1;33m\u001b[0m\u001b[0m\n\u001b[0;32m   5590\u001b[0m             \u001b[1;32mif\u001b[0m \u001b[0merrors\u001b[0m \u001b[1;33m!=\u001b[0m \u001b[1;34m\"ignore\"\u001b[0m\u001b[1;33m:\u001b[0m\u001b[1;33m\u001b[0m\u001b[1;33m\u001b[0m\u001b[0m\n\u001b[1;32m-> 5591\u001b[1;33m                 \u001b[1;32mraise\u001b[0m \u001b[0mKeyError\u001b[0m\u001b[1;33m(\u001b[0m\u001b[1;34mf\"{labels[mask]} not found in axis\"\u001b[0m\u001b[1;33m)\u001b[0m\u001b[1;33m\u001b[0m\u001b[1;33m\u001b[0m\u001b[0m\n\u001b[0m\u001b[0;32m   5592\u001b[0m             \u001b[0mindexer\u001b[0m \u001b[1;33m=\u001b[0m \u001b[0mindexer\u001b[0m\u001b[1;33m[\u001b[0m\u001b[1;33m~\u001b[0m\u001b[0mmask\u001b[0m\u001b[1;33m]\u001b[0m\u001b[1;33m\u001b[0m\u001b[1;33m\u001b[0m\u001b[0m\n\u001b[0;32m   5593\u001b[0m         \u001b[1;32mreturn\u001b[0m \u001b[0mself\u001b[0m\u001b[1;33m.\u001b[0m\u001b[0mdelete\u001b[0m\u001b[1;33m(\u001b[0m\u001b[0mindexer\u001b[0m\u001b[1;33m)\u001b[0m\u001b[1;33m\u001b[0m\u001b[1;33m\u001b[0m\u001b[0m\n",
      "\u001b[1;31mKeyError\u001b[0m: \"['description'] not found in axis\""
     ]
    }
   ],
   "source": [
    "# Removendo coluna de sinopse\n",
    "\n",
    "df.drop(columns=\"description\",inplace = True)"
   ]
  },
  {
   "cell_type": "code",
   "execution_count": 37,
   "id": "e24457f2-19f1-4b67-a087-3428eaa7e552",
   "metadata": {},
   "outputs": [],
   "source": [
    "# Transformando o formato para data\n",
    "\n",
    "df[\"date_added\"] = pd.to_datetime(df[\"date_added\"])"
   ]
  },
  {
   "cell_type": "code",
   "execution_count": 43,
   "id": "9d3ddad6-c9b3-458d-8ca8-7156871ddca9",
   "metadata": {},
   "outputs": [
    {
     "data": {
      "text/plain": [
       "type               0\n",
       "title              0\n",
       "director        2634\n",
       "cast             825\n",
       "country          831\n",
       "date_added        10\n",
       "release_year       0\n",
       "rating             4\n",
       "duration           3\n",
       "listed_in          0\n",
       "dtype: int64"
      ]
     },
     "execution_count": 43,
     "metadata": {},
     "output_type": "execute_result"
    }
   ],
   "source": [
    "# Identificando valores ausentes\n",
    "\n",
    "df.isna().sum()"
   ]
  },
  {
   "cell_type": "code",
   "execution_count": 47,
   "id": "3f6a264d-9771-4b56-9d6f-ed6cbae277c2",
   "metadata": {},
   "outputs": [],
   "source": [
    "# Separando os dados entre Filmes e Séries:\n",
    "\n",
    "movies = df[df[\"type\"] == \"Movie\"].copy()\n",
    "series = df[df[\"type\"] == \"TV Show\"].copy()"
   ]
  },
  {
   "cell_type": "code",
   "execution_count": 50,
   "id": "09c9c875-feff-4240-a619-ee54f4ab462f",
   "metadata": {},
   "outputs": [
    {
     "data": {
      "text/plain": [
       "type              0\n",
       "title             0\n",
       "director        188\n",
       "cast            475\n",
       "country         440\n",
       "date_added        0\n",
       "release_year      0\n",
       "rating            2\n",
       "duration          3\n",
       "listed_in         0\n",
       "dtype: int64"
      ]
     },
     "execution_count": 50,
     "metadata": {},
     "output_type": "execute_result"
    }
   ],
   "source": [
    "movies.isna().sum()"
   ]
  },
  {
   "cell_type": "code",
   "execution_count": 52,
   "id": "6eb9a52c-5c61-4f5c-9a4b-6b3a9a23f4c5",
   "metadata": {},
   "outputs": [
    {
     "data": {
      "text/plain": [
       "(6131, 10)"
      ]
     },
     "execution_count": 52,
     "metadata": {},
     "output_type": "execute_result"
    }
   ],
   "source": [
    "movies.shape"
   ]
  },
  {
   "cell_type": "code",
   "execution_count": 51,
   "id": "61624f31-2f42-4280-8ac0-246d87e09d60",
   "metadata": {},
   "outputs": [
    {
     "data": {
      "text/plain": [
       "type               0\n",
       "title              0\n",
       "director        2446\n",
       "cast             350\n",
       "country          391\n",
       "date_added        10\n",
       "release_year       0\n",
       "rating             2\n",
       "duration           0\n",
       "listed_in          0\n",
       "dtype: int64"
      ]
     },
     "execution_count": 51,
     "metadata": {},
     "output_type": "execute_result"
    }
   ],
   "source": [
    "series.isna().sum()"
   ]
  },
  {
   "cell_type": "code",
   "execution_count": 54,
   "id": "af1756ac-71d8-4668-87e4-8eda401afb59",
   "metadata": {},
   "outputs": [
    {
     "data": {
      "text/plain": [
       "(2676, 10)"
      ]
     },
     "execution_count": 54,
     "metadata": {},
     "output_type": "execute_result"
    }
   ],
   "source": [
    "series.shape"
   ]
  },
  {
   "cell_type": "markdown",
   "id": "c4186541-1b06-4c17-b703-250bef3e9930",
   "metadata": {},
   "source": [
    "### Analisando os Filmes"
   ]
  },
  {
   "cell_type": "code",
   "execution_count": 55,
   "id": "a123abc1-c5aa-4853-9659-9c29ba8ec201",
   "metadata": {},
   "outputs": [
    {
     "data": {
      "text/html": [
       "<div>\n",
       "<style scoped>\n",
       "    .dataframe tbody tr th:only-of-type {\n",
       "        vertical-align: middle;\n",
       "    }\n",
       "\n",
       "    .dataframe tbody tr th {\n",
       "        vertical-align: top;\n",
       "    }\n",
       "\n",
       "    .dataframe thead th {\n",
       "        text-align: right;\n",
       "    }\n",
       "</style>\n",
       "<table border=\"1\" class=\"dataframe\">\n",
       "  <thead>\n",
       "    <tr style=\"text-align: right;\">\n",
       "      <th></th>\n",
       "      <th>type</th>\n",
       "      <th>title</th>\n",
       "      <th>director</th>\n",
       "      <th>cast</th>\n",
       "      <th>country</th>\n",
       "      <th>date_added</th>\n",
       "      <th>release_year</th>\n",
       "      <th>rating</th>\n",
       "      <th>duration</th>\n",
       "      <th>listed_in</th>\n",
       "    </tr>\n",
       "    <tr>\n",
       "      <th>show_id</th>\n",
       "      <th></th>\n",
       "      <th></th>\n",
       "      <th></th>\n",
       "      <th></th>\n",
       "      <th></th>\n",
       "      <th></th>\n",
       "      <th></th>\n",
       "      <th></th>\n",
       "      <th></th>\n",
       "      <th></th>\n",
       "    </tr>\n",
       "  </thead>\n",
       "  <tbody>\n",
       "    <tr>\n",
       "      <th>s1</th>\n",
       "      <td>Movie</td>\n",
       "      <td>Dick Johnson Is Dead</td>\n",
       "      <td>Kirsten Johnson</td>\n",
       "      <td>NaN</td>\n",
       "      <td>United States</td>\n",
       "      <td>2021-09-25</td>\n",
       "      <td>2020</td>\n",
       "      <td>PG-13</td>\n",
       "      <td>90 min</td>\n",
       "      <td>Documentaries</td>\n",
       "    </tr>\n",
       "    <tr>\n",
       "      <th>s7</th>\n",
       "      <td>Movie</td>\n",
       "      <td>My Little Pony: A New Generation</td>\n",
       "      <td>Robert Cullen, José Luis Ucha</td>\n",
       "      <td>Vanessa Hudgens, Kimiko Glenn, James Marsden, ...</td>\n",
       "      <td>NaN</td>\n",
       "      <td>2021-09-24</td>\n",
       "      <td>2021</td>\n",
       "      <td>PG</td>\n",
       "      <td>91 min</td>\n",
       "      <td>Children &amp; Family Movies</td>\n",
       "    </tr>\n",
       "    <tr>\n",
       "      <th>s8</th>\n",
       "      <td>Movie</td>\n",
       "      <td>Sankofa</td>\n",
       "      <td>Haile Gerima</td>\n",
       "      <td>Kofi Ghanaba, Oyafunmike Ogunlano, Alexandra D...</td>\n",
       "      <td>United States, Ghana, Burkina Faso, United Kin...</td>\n",
       "      <td>2021-09-24</td>\n",
       "      <td>1993</td>\n",
       "      <td>TV-MA</td>\n",
       "      <td>125 min</td>\n",
       "      <td>Dramas, Independent Movies, International Movies</td>\n",
       "    </tr>\n",
       "    <tr>\n",
       "      <th>s10</th>\n",
       "      <td>Movie</td>\n",
       "      <td>The Starling</td>\n",
       "      <td>Theodore Melfi</td>\n",
       "      <td>Melissa McCarthy, Chris O'Dowd, Kevin Kline, T...</td>\n",
       "      <td>United States</td>\n",
       "      <td>2021-09-24</td>\n",
       "      <td>2021</td>\n",
       "      <td>PG-13</td>\n",
       "      <td>104 min</td>\n",
       "      <td>Comedies, Dramas</td>\n",
       "    </tr>\n",
       "    <tr>\n",
       "      <th>s13</th>\n",
       "      <td>Movie</td>\n",
       "      <td>Je Suis Karl</td>\n",
       "      <td>Christian Schwochow</td>\n",
       "      <td>Luna Wedler, Jannis Niewöhner, Milan Peschel, ...</td>\n",
       "      <td>Germany, Czech Republic</td>\n",
       "      <td>2021-09-23</td>\n",
       "      <td>2021</td>\n",
       "      <td>TV-MA</td>\n",
       "      <td>127 min</td>\n",
       "      <td>Dramas, International Movies</td>\n",
       "    </tr>\n",
       "  </tbody>\n",
       "</table>\n",
       "</div>"
      ],
      "text/plain": [
       "          type                             title  \\\n",
       "show_id                                            \n",
       "s1       Movie              Dick Johnson Is Dead   \n",
       "s7       Movie  My Little Pony: A New Generation   \n",
       "s8       Movie                           Sankofa   \n",
       "s10      Movie                      The Starling   \n",
       "s13      Movie                      Je Suis Karl   \n",
       "\n",
       "                              director  \\\n",
       "show_id                                  \n",
       "s1                     Kirsten Johnson   \n",
       "s7       Robert Cullen, José Luis Ucha   \n",
       "s8                        Haile Gerima   \n",
       "s10                     Theodore Melfi   \n",
       "s13                Christian Schwochow   \n",
       "\n",
       "                                                      cast  \\\n",
       "show_id                                                      \n",
       "s1                                                     NaN   \n",
       "s7       Vanessa Hudgens, Kimiko Glenn, James Marsden, ...   \n",
       "s8       Kofi Ghanaba, Oyafunmike Ogunlano, Alexandra D...   \n",
       "s10      Melissa McCarthy, Chris O'Dowd, Kevin Kline, T...   \n",
       "s13      Luna Wedler, Jannis Niewöhner, Milan Peschel, ...   \n",
       "\n",
       "                                                   country date_added  \\\n",
       "show_id                                                                 \n",
       "s1                                           United States 2021-09-25   \n",
       "s7                                                     NaN 2021-09-24   \n",
       "s8       United States, Ghana, Burkina Faso, United Kin... 2021-09-24   \n",
       "s10                                          United States 2021-09-24   \n",
       "s13                                Germany, Czech Republic 2021-09-23   \n",
       "\n",
       "         release_year rating duration  \\\n",
       "show_id                                 \n",
       "s1               2020  PG-13   90 min   \n",
       "s7               2021     PG   91 min   \n",
       "s8               1993  TV-MA  125 min   \n",
       "s10              2021  PG-13  104 min   \n",
       "s13              2021  TV-MA  127 min   \n",
       "\n",
       "                                                listed_in  \n",
       "show_id                                                    \n",
       "s1                                          Documentaries  \n",
       "s7                               Children & Family Movies  \n",
       "s8       Dramas, Independent Movies, International Movies  \n",
       "s10                                      Comedies, Dramas  \n",
       "s13                          Dramas, International Movies  "
      ]
     },
     "execution_count": 55,
     "metadata": {},
     "output_type": "execute_result"
    }
   ],
   "source": [
    "movies.head()"
   ]
  },
  {
   "cell_type": "code",
   "execution_count": 86,
   "id": "52fa86cb-b8a9-457b-8772-4865c3d65781",
   "metadata": {},
   "outputs": [],
   "source": [
    "categories = list()"
   ]
  },
  {
   "cell_type": "code",
   "execution_count": 89,
   "id": "d0fbb658-6c0a-4410-9c4b-708dbd0a9374",
   "metadata": {},
   "outputs": [],
   "source": [
    "for x,y in enumerate(movies[\"listed_in\"]):\n",
    "    categories.append(y.split(sep = \",\")) "
   ]
  },
  {
   "cell_type": "code",
   "execution_count": 102,
   "id": "d7033453-6a15-40ba-a03c-2ad82c73f8f1",
   "metadata": {},
   "outputs": [
    {
     "data": {
      "text/plain": [
       "3"
      ]
     },
     "execution_count": 102,
     "metadata": {},
     "output_type": "execute_result"
    }
   ],
   "source": [
    "x = list()\n",
    "for item in categories:\n",
    "    x.append(len(item))\n",
    "max(x)"
   ]
  },
  {
   "cell_type": "markdown",
   "id": "93387908-1edb-492b-afc2-55b328e127e7",
   "metadata": {},
   "source": [
    "### Obs: O máximo de categorias na qual um filme pode pertencer são 3."
   ]
  },
  {
   "cell_type": "code",
   "execution_count": 143,
   "id": "16cb3a26-5721-46b2-9281-25d42e2d23a0",
   "metadata": {},
   "outputs": [],
   "source": [
    "# Ajustando países com nome inválido\n",
    "\n",
    "movies[\"country\"] = np.where(movies[\"country\"].isna(),\n",
    "                            \"Unknown\",\n",
    "                            movies[\"country\"])"
   ]
  },
  {
   "cell_type": "markdown",
   "id": "2d2b3ff0-4bf4-44d4-b53c-d33957aee20b",
   "metadata": {},
   "source": [
    "# EDA\n",
    "\n",
    "##### **Perguntas a serem respondidas:**\n",
    "1. Quais são os diretores que possuem a maior quantidade de filmes em catálogo ?\n",
    "\n",
    "2. Quais são os países que possuem a maior quantidade de filmes em catálogo ?\n",
    "\n",
    "3. Qual a distribuição das indicações dos filmes ? (Perfil indicativo)\n",
    "    \n",
    "    3.1. Qual é o perfil indicativo dos filmes para os países com mais filmes ?\n",
    "    \n",
    "    3.2. Quais são os diretores que possuem maior quantidade de filmes para cada Perfil Indicativo ?\n",
    "\n",
    "4. Qual são as faixas de ano de lançamento dos filmes ?\n",
    "\n",
    "5. Após a criação da Netflix, qual o tempo médio para a inclusão do filme em catálogo ?\n",
    "\n",
    "6. Qual a distribuição de duração dos filmes ?\n",
    "    \n",
    "    6.1.Qual a distribuição de duração dos filmes por perfil indicativo ?\n",
    "    \n",
    "    6.2. Quais são os países que possuem filmes mais longos ?\n",
    "\n",
    "7. Quais são os atores que estão mais presentes ?\n",
    "\n",
    "8. Quais são as categorias de filmes mais presentes ?\n",
    "\n",
    "9. Quais são os filmes onde existem diretores e atores ? **\n"
   ]
  },
  {
   "cell_type": "code",
   "execution_count": 160,
   "id": "3618b6d7-01a5-4657-884b-fc31dc075fc1",
   "metadata": {},
   "outputs": [
    {
     "data": {
      "text/html": [
       "<div>\n",
       "<style scoped>\n",
       "    .dataframe tbody tr th:only-of-type {\n",
       "        vertical-align: middle;\n",
       "    }\n",
       "\n",
       "    .dataframe tbody tr th {\n",
       "        vertical-align: top;\n",
       "    }\n",
       "\n",
       "    .dataframe thead th {\n",
       "        text-align: right;\n",
       "    }\n",
       "</style>\n",
       "<table border=\"1\" class=\"dataframe\">\n",
       "  <thead>\n",
       "    <tr style=\"text-align: right;\">\n",
       "      <th></th>\n",
       "      <th>type</th>\n",
       "      <th>title</th>\n",
       "      <th>director</th>\n",
       "      <th>cast</th>\n",
       "      <th>country</th>\n",
       "      <th>date_added</th>\n",
       "      <th>release_year</th>\n",
       "      <th>rating</th>\n",
       "      <th>duration</th>\n",
       "      <th>listed_in</th>\n",
       "      <th>categories</th>\n",
       "    </tr>\n",
       "    <tr>\n",
       "      <th>show_id</th>\n",
       "      <th></th>\n",
       "      <th></th>\n",
       "      <th></th>\n",
       "      <th></th>\n",
       "      <th></th>\n",
       "      <th></th>\n",
       "      <th></th>\n",
       "      <th></th>\n",
       "      <th></th>\n",
       "      <th></th>\n",
       "      <th></th>\n",
       "    </tr>\n",
       "  </thead>\n",
       "  <tbody>\n",
       "    <tr>\n",
       "      <th>s1</th>\n",
       "      <td>Movie</td>\n",
       "      <td>Dick Johnson Is Dead</td>\n",
       "      <td>Kirsten Johnson</td>\n",
       "      <td>NaN</td>\n",
       "      <td>United States</td>\n",
       "      <td>2021-09-25</td>\n",
       "      <td>2020</td>\n",
       "      <td>PG-13</td>\n",
       "      <td>90 min</td>\n",
       "      <td>Documentaries</td>\n",
       "      <td>NaN</td>\n",
       "    </tr>\n",
       "    <tr>\n",
       "      <th>s7</th>\n",
       "      <td>Movie</td>\n",
       "      <td>My Little Pony: A New Generation</td>\n",
       "      <td>Robert Cullen, José Luis Ucha</td>\n",
       "      <td>Vanessa Hudgens, Kimiko Glenn, James Marsden, ...</td>\n",
       "      <td>Unknown</td>\n",
       "      <td>2021-09-24</td>\n",
       "      <td>2021</td>\n",
       "      <td>PG</td>\n",
       "      <td>91 min</td>\n",
       "      <td>Children &amp; Family Movies</td>\n",
       "      <td>NaN</td>\n",
       "    </tr>\n",
       "    <tr>\n",
       "      <th>s8</th>\n",
       "      <td>Movie</td>\n",
       "      <td>Sankofa</td>\n",
       "      <td>Haile Gerima</td>\n",
       "      <td>Kofi Ghanaba, Oyafunmike Ogunlano, Alexandra D...</td>\n",
       "      <td>United States, Ghana, Burkina Faso, United Kin...</td>\n",
       "      <td>2021-09-24</td>\n",
       "      <td>1993</td>\n",
       "      <td>TV-MA</td>\n",
       "      <td>125 min</td>\n",
       "      <td>Dramas, Independent Movies, International Movies</td>\n",
       "      <td>NaN</td>\n",
       "    </tr>\n",
       "    <tr>\n",
       "      <th>s10</th>\n",
       "      <td>Movie</td>\n",
       "      <td>The Starling</td>\n",
       "      <td>Theodore Melfi</td>\n",
       "      <td>Melissa McCarthy, Chris O'Dowd, Kevin Kline, T...</td>\n",
       "      <td>United States</td>\n",
       "      <td>2021-09-24</td>\n",
       "      <td>2021</td>\n",
       "      <td>PG-13</td>\n",
       "      <td>104 min</td>\n",
       "      <td>Comedies, Dramas</td>\n",
       "      <td>NaN</td>\n",
       "    </tr>\n",
       "    <tr>\n",
       "      <th>s13</th>\n",
       "      <td>Movie</td>\n",
       "      <td>Je Suis Karl</td>\n",
       "      <td>Christian Schwochow</td>\n",
       "      <td>Luna Wedler, Jannis Niewöhner, Milan Peschel, ...</td>\n",
       "      <td>Germany, Czech Republic</td>\n",
       "      <td>2021-09-23</td>\n",
       "      <td>2021</td>\n",
       "      <td>TV-MA</td>\n",
       "      <td>127 min</td>\n",
       "      <td>Dramas, International Movies</td>\n",
       "      <td>NaN</td>\n",
       "    </tr>\n",
       "  </tbody>\n",
       "</table>\n",
       "</div>"
      ],
      "text/plain": [
       "          type                             title  \\\n",
       "show_id                                            \n",
       "s1       Movie              Dick Johnson Is Dead   \n",
       "s7       Movie  My Little Pony: A New Generation   \n",
       "s8       Movie                           Sankofa   \n",
       "s10      Movie                      The Starling   \n",
       "s13      Movie                      Je Suis Karl   \n",
       "\n",
       "                              director  \\\n",
       "show_id                                  \n",
       "s1                     Kirsten Johnson   \n",
       "s7       Robert Cullen, José Luis Ucha   \n",
       "s8                        Haile Gerima   \n",
       "s10                     Theodore Melfi   \n",
       "s13                Christian Schwochow   \n",
       "\n",
       "                                                      cast  \\\n",
       "show_id                                                      \n",
       "s1                                                     NaN   \n",
       "s7       Vanessa Hudgens, Kimiko Glenn, James Marsden, ...   \n",
       "s8       Kofi Ghanaba, Oyafunmike Ogunlano, Alexandra D...   \n",
       "s10      Melissa McCarthy, Chris O'Dowd, Kevin Kline, T...   \n",
       "s13      Luna Wedler, Jannis Niewöhner, Milan Peschel, ...   \n",
       "\n",
       "                                                   country date_added  \\\n",
       "show_id                                                                 \n",
       "s1                                           United States 2021-09-25   \n",
       "s7                                                 Unknown 2021-09-24   \n",
       "s8       United States, Ghana, Burkina Faso, United Kin... 2021-09-24   \n",
       "s10                                          United States 2021-09-24   \n",
       "s13                                Germany, Czech Republic 2021-09-23   \n",
       "\n",
       "         release_year rating duration  \\\n",
       "show_id                                 \n",
       "s1               2020  PG-13   90 min   \n",
       "s7               2021     PG   91 min   \n",
       "s8               1993  TV-MA  125 min   \n",
       "s10              2021  PG-13  104 min   \n",
       "s13              2021  TV-MA  127 min   \n",
       "\n",
       "                                                listed_in  categories  \n",
       "show_id                                                                \n",
       "s1                                          Documentaries         NaN  \n",
       "s7                               Children & Family Movies         NaN  \n",
       "s8       Dramas, Independent Movies, International Movies         NaN  \n",
       "s10                                      Comedies, Dramas         NaN  \n",
       "s13                          Dramas, International Movies         NaN  "
      ]
     },
     "execution_count": 160,
     "metadata": {},
     "output_type": "execute_result"
    }
   ],
   "source": [
    "movies.head()"
   ]
  },
  {
   "cell_type": "markdown",
   "id": "6b8409ab-4bfe-4ac9-a2dc-0255ed762d33",
   "metadata": {},
   "source": [
    "### 1. Quais são os diretores que possuem maior quantidade de filmes em Catálogo ?"
   ]
  },
  {
   "cell_type": "code",
   "execution_count": 144,
   "id": "13ac25d3-267c-4f12-9aa0-5407f0de0d6d",
   "metadata": {},
   "outputs": [],
   "source": [
    "directors = pd.DataFrame(movies.value_counts(subset=\"director\"),columns=[\"Quantity\"])\n"
   ]
  },
  {
   "cell_type": "code",
   "execution_count": 145,
   "id": "dbfa915f-b1db-4ba4-96f0-2e7bb8a96e0d",
   "metadata": {},
   "outputs": [
    {
     "data": {
      "text/html": [
       "<div>\n",
       "<style scoped>\n",
       "    .dataframe tbody tr th:only-of-type {\n",
       "        vertical-align: middle;\n",
       "    }\n",
       "\n",
       "    .dataframe tbody tr th {\n",
       "        vertical-align: top;\n",
       "    }\n",
       "\n",
       "    .dataframe thead th {\n",
       "        text-align: right;\n",
       "    }\n",
       "</style>\n",
       "<table border=\"1\" class=\"dataframe\">\n",
       "  <thead>\n",
       "    <tr style=\"text-align: right;\">\n",
       "      <th></th>\n",
       "      <th>Quantity</th>\n",
       "    </tr>\n",
       "    <tr>\n",
       "      <th>director</th>\n",
       "      <th></th>\n",
       "    </tr>\n",
       "  </thead>\n",
       "  <tbody>\n",
       "    <tr>\n",
       "      <th>Rajiv Chilaka</th>\n",
       "      <td>19</td>\n",
       "    </tr>\n",
       "    <tr>\n",
       "      <th>Raúl Campos, Jan Suter</th>\n",
       "      <td>18</td>\n",
       "    </tr>\n",
       "    <tr>\n",
       "      <th>Suhas Kadav</th>\n",
       "      <td>16</td>\n",
       "    </tr>\n",
       "    <tr>\n",
       "      <th>Marcus Raboy</th>\n",
       "      <td>15</td>\n",
       "    </tr>\n",
       "    <tr>\n",
       "      <th>Jay Karas</th>\n",
       "      <td>14</td>\n",
       "    </tr>\n",
       "    <tr>\n",
       "      <th>...</th>\n",
       "      <td>...</td>\n",
       "    </tr>\n",
       "    <tr>\n",
       "      <th>Jose Gomez</th>\n",
       "      <td>1</td>\n",
       "    </tr>\n",
       "    <tr>\n",
       "      <th>Jose Javier Reyes</th>\n",
       "      <td>1</td>\n",
       "    </tr>\n",
       "    <tr>\n",
       "      <th>Bilal Lashari</th>\n",
       "      <td>1</td>\n",
       "    </tr>\n",
       "    <tr>\n",
       "      <th>Joseduardo Giordano, Sergio Goyri Jr.</th>\n",
       "      <td>1</td>\n",
       "    </tr>\n",
       "    <tr>\n",
       "      <th>Kief Davidson, Pedro Kos</th>\n",
       "      <td>1</td>\n",
       "    </tr>\n",
       "  </tbody>\n",
       "</table>\n",
       "<p>4354 rows × 1 columns</p>\n",
       "</div>"
      ],
      "text/plain": [
       "                                       Quantity\n",
       "director                                       \n",
       "Rajiv Chilaka                                19\n",
       "Raúl Campos, Jan Suter                       18\n",
       "Suhas Kadav                                  16\n",
       "Marcus Raboy                                 15\n",
       "Jay Karas                                    14\n",
       "...                                         ...\n",
       "Jose Gomez                                    1\n",
       "Jose Javier Reyes                             1\n",
       "Bilal Lashari                                 1\n",
       "Joseduardo Giordano, Sergio Goyri Jr.         1\n",
       "Kief Davidson, Pedro Kos                      1\n",
       "\n",
       "[4354 rows x 1 columns]"
      ]
     },
     "execution_count": 145,
     "metadata": {},
     "output_type": "execute_result"
    }
   ],
   "source": [
    "directors"
   ]
  },
  {
   "cell_type": "markdown",
   "id": "86f12824-71c9-4479-b8c8-59c3ffaa284e",
   "metadata": {},
   "source": [
    "## 2. Quais são os países que possuem maior quantidade de filmes em catálogo ?\n",
    "\n",
    "#### Ainda é necessário tratar os dados onde existe mais de um país indicado para o filme"
   ]
  },
  {
   "cell_type": "code",
   "execution_count": 146,
   "id": "debaa653-3bf6-4bb8-a377-cede12f3c9df",
   "metadata": {},
   "outputs": [
    {
     "data": {
      "text/plain": [
       "country        director                  \n",
       "Unknown        Rajiv Chilaka                 16\n",
       "               Suhas Kadav                   15\n",
       "United States  Marcus Raboy                  14\n",
       "               Jay Karas                     14\n",
       "Philippines    Cathy Garcia-Molina           13\n",
       "                                             ..\n",
       "Mexico         Eric D. Cabello Díaz           1\n",
       "               Eugenio Derbez                 1\n",
       "               Everardo González              1\n",
       "               Fernando Frías De La Parra     1\n",
       "Zimbabwe       Tomas Brickhill                1\n",
       "Length: 4790, dtype: int64"
      ]
     },
     "execution_count": 146,
     "metadata": {},
     "output_type": "execute_result"
    }
   ],
   "source": [
    "movies.value_counts(subset=[\"country\",\"director\"])"
   ]
  },
  {
   "cell_type": "code",
   "execution_count": 147,
   "id": "23f22c33-4bbf-49b7-aeb4-0a97c75009a7",
   "metadata": {},
   "outputs": [
    {
     "data": {
      "text/plain": [
       "director\n",
       "False    5943\n",
       "True      188\n",
       "dtype: int64"
      ]
     },
     "execution_count": 147,
     "metadata": {},
     "output_type": "execute_result"
    }
   ],
   "source": [
    "movies.isna().value_counts(\"director\")"
   ]
  },
  {
   "cell_type": "markdown",
   "id": "e45a861a-e7a4-492a-913a-b9d60dea0489",
   "metadata": {},
   "source": [
    "### 3. Qual a distribuição das indicações dos filmes? "
   ]
  },
  {
   "cell_type": "code",
   "execution_count": 170,
   "id": "8d08b24d-f324-4a9b-80c0-771a054e2b9a",
   "metadata": {},
   "outputs": [],
   "source": [
    "# Existem dados errados, onde nas indicações dos filmes estão sendo postos a duração do filme\n",
    "\n",
    "ratings = pd.DataFrame(movies[\"rating\"].value_counts(normalize = True))\n",
    "ratings[\"rating\"] = ratings[\"rating\"]*100 "
   ]
  },
  {
   "cell_type": "code",
   "execution_count": 173,
   "id": "b9f4f3df-8b90-408a-9d1a-3309fa25273c",
   "metadata": {},
   "outputs": [
    {
     "data": {
      "text/html": [
       "<div>\n",
       "<style scoped>\n",
       "    .dataframe tbody tr th:only-of-type {\n",
       "        vertical-align: middle;\n",
       "    }\n",
       "\n",
       "    .dataframe tbody tr th {\n",
       "        vertical-align: top;\n",
       "    }\n",
       "\n",
       "    .dataframe thead th {\n",
       "        text-align: right;\n",
       "    }\n",
       "</style>\n",
       "<table border=\"1\" class=\"dataframe\">\n",
       "  <thead>\n",
       "    <tr style=\"text-align: right;\">\n",
       "      <th></th>\n",
       "      <th>rating</th>\n",
       "    </tr>\n",
       "  </thead>\n",
       "  <tbody>\n",
       "    <tr>\n",
       "      <th>TV-MA</th>\n",
       "      <td>33.643335</td>\n",
       "    </tr>\n",
       "    <tr>\n",
       "      <th>TV-14</th>\n",
       "      <td>23.282754</td>\n",
       "    </tr>\n",
       "    <tr>\n",
       "      <th>R</th>\n",
       "      <td>13.003753</td>\n",
       "    </tr>\n",
       "    <tr>\n",
       "      <th>TV-PG</th>\n",
       "      <td>8.810573</td>\n",
       "    </tr>\n",
       "    <tr>\n",
       "      <th>PG-13</th>\n",
       "      <td>7.994779</td>\n",
       "    </tr>\n",
       "    <tr>\n",
       "      <th>PG</th>\n",
       "      <td>4.682656</td>\n",
       "    </tr>\n",
       "    <tr>\n",
       "      <th>TV-Y7</th>\n",
       "      <td>2.267907</td>\n",
       "    </tr>\n",
       "    <tr>\n",
       "      <th>TV-Y</th>\n",
       "      <td>2.137380</td>\n",
       "    </tr>\n",
       "    <tr>\n",
       "      <th>TV-G</th>\n",
       "      <td>2.055800</td>\n",
       "    </tr>\n",
       "    <tr>\n",
       "      <th>NR</th>\n",
       "      <td>1.223691</td>\n",
       "    </tr>\n",
       "    <tr>\n",
       "      <th>G</th>\n",
       "      <td>0.668951</td>\n",
       "    </tr>\n",
       "    <tr>\n",
       "      <th>TV-Y7-FV</th>\n",
       "      <td>0.081579</td>\n",
       "    </tr>\n",
       "    <tr>\n",
       "      <th>NC-17</th>\n",
       "      <td>0.048948</td>\n",
       "    </tr>\n",
       "    <tr>\n",
       "      <th>UR</th>\n",
       "      <td>0.048948</td>\n",
       "    </tr>\n",
       "  </tbody>\n",
       "</table>\n",
       "</div>"
      ],
      "text/plain": [
       "             rating\n",
       "TV-MA     33.643335\n",
       "TV-14     23.282754\n",
       "R         13.003753\n",
       "TV-PG      8.810573\n",
       "PG-13      7.994779\n",
       "PG         4.682656\n",
       "TV-Y7      2.267907\n",
       "TV-Y       2.137380\n",
       "TV-G       2.055800\n",
       "NR         1.223691\n",
       "G          0.668951\n",
       "TV-Y7-FV   0.081579\n",
       "NC-17      0.048948\n",
       "UR         0.048948"
      ]
     },
     "execution_count": 173,
     "metadata": {},
     "output_type": "execute_result"
    }
   ],
   "source": [
    "ratings[0:14]"
   ]
  },
  {
   "cell_type": "markdown",
   "id": "3e3970e4-d50d-43d9-8b05-f8373341b5a6",
   "metadata": {},
   "source": [
    "### 3.1 Qual é o perfil indicativo dos filmes para os países com mais filmes ?"
   ]
  },
  {
   "cell_type": "markdown",
   "id": "47015247-a7bd-40c7-a62b-944e77f80121",
   "metadata": {},
   "source": [
    "### 3.2 Quais são os diretores que possuem maior quantidade de filmes para cada Perfil Indicativo ?"
   ]
  },
  {
   "cell_type": "markdown",
   "id": "ebe5d384-c4fb-41b1-a7e7-402ec1afa841",
   "metadata": {},
   "source": [
    "### 4. Qual são as faixas de ano de lançamento dos filmes ?"
   ]
  },
  {
   "cell_type": "markdown",
   "id": "17f990c7-4b5d-443b-a374-64a5d6f77809",
   "metadata": {},
   "source": [
    "### 5. Após a criação da Netflix, qual o tempo médio para a inclusão do filme em catálogo ?"
   ]
  },
  {
   "cell_type": "markdown",
   "id": "5b7a5e8c-3fdc-4449-b3e5-92160bf5063b",
   "metadata": {},
   "source": [
    "### 6. Qual a distribuição de duração dos filmes ?"
   ]
  },
  {
   "cell_type": "markdown",
   "id": "21d18bbd-9fb4-442a-87c8-dda74a4a6f79",
   "metadata": {},
   "source": [
    "### 6.1. Qual a distribuição de duração dos filmes por perfil indicativo ?"
   ]
  },
  {
   "cell_type": "markdown",
   "id": "3b50d9d1-243e-4c3c-8aae-6b4c6e4952b7",
   "metadata": {},
   "source": [
    "### 6.2. Quais são os países que possuem filmes mais longos ?"
   ]
  },
  {
   "cell_type": "markdown",
   "id": "768e441e-9591-476a-88fb-836ad6b04882",
   "metadata": {},
   "source": [
    "### 7. Quais são os atores que estão mais presentes ? "
   ]
  },
  {
   "cell_type": "markdown",
   "id": "43eadb24-fc8d-4264-ba18-f8f17af45bef",
   "metadata": {},
   "source": [
    "### 8. Quais são as categorias de filmes mais presentes ?"
   ]
  },
  {
   "cell_type": "markdown",
   "id": "d797ac44-0ce6-4cdf-a924-72e9acfbca59",
   "metadata": {},
   "source": [
    "###  9. Quais são os filmes onde existem diretores e atores ?"
   ]
  },
  {
   "cell_type": "code",
   "execution_count": 178,
   "id": "93e2bf1a-1bbe-494c-b42f-3c73e9d2cbab",
   "metadata": {},
   "outputs": [
    {
     "data": {
      "text/plain": [
       "show_id\n",
       "s1                                         [Documentaries]\n",
       "s2       [International TV Shows, TV Dramas, TV Mysteries]\n",
       "s3       [Crime TV Shows, International TV Shows, TV Ac...\n",
       "s4                                [Docuseries, Reality TV]\n",
       "s5       [International TV Shows, Romantic TV Shows, TV...\n",
       "                               ...                        \n",
       "s8803                     [Cult Movies, Dramas, Thrillers]\n",
       "s8804             [Kids' TV, Korean TV Shows, TV Comedies]\n",
       "s8805                            [Comedies, Horror Movies]\n",
       "s8806                 [Children & Family Movies, Comedies]\n",
       "s8807     [Dramas, International Movies, Music & Musicals]\n",
       "Name: listed_in, Length: 8807, dtype: object"
      ]
     },
     "execution_count": 178,
     "metadata": {},
     "output_type": "execute_result"
    }
   ],
   "source": [
    "df['listed_in'].apply(lambda x :  x.replace(' ,',',').replace(', ',',').split(',')) "
   ]
  }
 ],
 "metadata": {
  "kernelspec": {
   "display_name": "Python 3",
   "language": "python",
   "name": "python3"
  },
  "language_info": {
   "codemirror_mode": {
    "name": "ipython",
    "version": 3
   },
   "file_extension": ".py",
   "mimetype": "text/x-python",
   "name": "python",
   "nbconvert_exporter": "python",
   "pygments_lexer": "ipython3",
   "version": "3.8.8"
  }
 },
 "nbformat": 4,
 "nbformat_minor": 5
}
